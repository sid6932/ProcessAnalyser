{
 "cells": [
  {
   "cell_type": "markdown",
   "id": "ffc87f51",
   "metadata": {},
   "source": [
    "### Importing required libraries"
   ]
  },
  {
   "cell_type": "code",
   "execution_count": 100,
   "id": "9f0a5fec",
   "metadata": {},
   "outputs": [],
   "source": [
    "import numpy as np\n",
    "import pandas as pd\n",
    "import statistics\n",
    "from sklearn import svm\n",
    "from sklearn.model_selection import train_test_split\n",
    "from sklearn.metrics import classification_report"
   ]
  },
  {
   "cell_type": "markdown",
   "id": "513ecfcd",
   "metadata": {},
   "source": [
    "### Importing the dataset"
   ]
  },
  {
   "cell_type": "code",
   "execution_count": 14,
   "id": "c707dc8d",
   "metadata": {},
   "outputs": [
    {
     "data": {
      "text/html": [
       "<div>\n",
       "<style scoped>\n",
       "    .dataframe tbody tr th:only-of-type {\n",
       "        vertical-align: middle;\n",
       "    }\n",
       "\n",
       "    .dataframe tbody tr th {\n",
       "        vertical-align: top;\n",
       "    }\n",
       "\n",
       "    .dataframe thead th {\n",
       "        text-align: right;\n",
       "    }\n",
       "</style>\n",
       "<table border=\"1\" class=\"dataframe\">\n",
       "  <thead>\n",
       "    <tr style=\"text-align: right;\">\n",
       "      <th></th>\n",
       "      <th>0</th>\n",
       "      <th>1</th>\n",
       "      <th>2</th>\n",
       "      <th>3</th>\n",
       "      <th>4</th>\n",
       "      <th>5</th>\n",
       "      <th>6</th>\n",
       "      <th>7</th>\n",
       "      <th>8</th>\n",
       "      <th>9</th>\n",
       "      <th>...</th>\n",
       "      <th>50</th>\n",
       "      <th>51</th>\n",
       "      <th>52</th>\n",
       "      <th>53</th>\n",
       "      <th>54</th>\n",
       "      <th>55</th>\n",
       "      <th>56</th>\n",
       "      <th>57</th>\n",
       "      <th>58</th>\n",
       "      <th>59</th>\n",
       "    </tr>\n",
       "  </thead>\n",
       "  <tbody>\n",
       "    <tr>\n",
       "      <th>0</th>\n",
       "      <td>28.7812</td>\n",
       "      <td>34.4632</td>\n",
       "      <td>31.3381</td>\n",
       "      <td>31.2834</td>\n",
       "      <td>28.9207</td>\n",
       "      <td>33.7596</td>\n",
       "      <td>25.3969</td>\n",
       "      <td>27.7849</td>\n",
       "      <td>35.2479</td>\n",
       "      <td>27.1159</td>\n",
       "      <td>...</td>\n",
       "      <td>31.4333</td>\n",
       "      <td>24.5556</td>\n",
       "      <td>33.7431</td>\n",
       "      <td>25.0466</td>\n",
       "      <td>34.9318</td>\n",
       "      <td>34.9879</td>\n",
       "      <td>32.4721</td>\n",
       "      <td>33.3759</td>\n",
       "      <td>25.4652</td>\n",
       "      <td>25.8717</td>\n",
       "    </tr>\n",
       "    <tr>\n",
       "      <th>1</th>\n",
       "      <td>24.8923</td>\n",
       "      <td>25.7410</td>\n",
       "      <td>27.5532</td>\n",
       "      <td>32.8217</td>\n",
       "      <td>27.8789</td>\n",
       "      <td>31.5926</td>\n",
       "      <td>31.4861</td>\n",
       "      <td>35.5469</td>\n",
       "      <td>27.9516</td>\n",
       "      <td>31.6595</td>\n",
       "      <td>...</td>\n",
       "      <td>32.5577</td>\n",
       "      <td>31.0205</td>\n",
       "      <td>26.6418</td>\n",
       "      <td>28.4331</td>\n",
       "      <td>33.6564</td>\n",
       "      <td>26.4244</td>\n",
       "      <td>28.4661</td>\n",
       "      <td>34.2484</td>\n",
       "      <td>32.1005</td>\n",
       "      <td>26.6910</td>\n",
       "    </tr>\n",
       "    <tr>\n",
       "      <th>2</th>\n",
       "      <td>31.3987</td>\n",
       "      <td>30.6316</td>\n",
       "      <td>26.3983</td>\n",
       "      <td>24.2905</td>\n",
       "      <td>27.8613</td>\n",
       "      <td>28.5491</td>\n",
       "      <td>24.9717</td>\n",
       "      <td>32.4358</td>\n",
       "      <td>25.2239</td>\n",
       "      <td>27.3068</td>\n",
       "      <td>...</td>\n",
       "      <td>33.6318</td>\n",
       "      <td>26.5966</td>\n",
       "      <td>25.5387</td>\n",
       "      <td>32.5434</td>\n",
       "      <td>25.5772</td>\n",
       "      <td>29.9897</td>\n",
       "      <td>31.3510</td>\n",
       "      <td>33.9002</td>\n",
       "      <td>29.5446</td>\n",
       "      <td>29.3430</td>\n",
       "    </tr>\n",
       "    <tr>\n",
       "      <th>3</th>\n",
       "      <td>25.7740</td>\n",
       "      <td>30.5262</td>\n",
       "      <td>35.4209</td>\n",
       "      <td>25.6033</td>\n",
       "      <td>27.9700</td>\n",
       "      <td>25.2702</td>\n",
       "      <td>28.1320</td>\n",
       "      <td>29.4268</td>\n",
       "      <td>31.4549</td>\n",
       "      <td>27.3200</td>\n",
       "      <td>...</td>\n",
       "      <td>34.6292</td>\n",
       "      <td>28.7261</td>\n",
       "      <td>28.2979</td>\n",
       "      <td>31.5787</td>\n",
       "      <td>34.6156</td>\n",
       "      <td>32.5492</td>\n",
       "      <td>30.9827</td>\n",
       "      <td>24.8938</td>\n",
       "      <td>27.3659</td>\n",
       "      <td>25.3069</td>\n",
       "    </tr>\n",
       "    <tr>\n",
       "      <th>4</th>\n",
       "      <td>27.1798</td>\n",
       "      <td>29.2498</td>\n",
       "      <td>33.6928</td>\n",
       "      <td>25.6264</td>\n",
       "      <td>24.6555</td>\n",
       "      <td>28.9446</td>\n",
       "      <td>35.7980</td>\n",
       "      <td>34.9446</td>\n",
       "      <td>24.5596</td>\n",
       "      <td>34.2366</td>\n",
       "      <td>...</td>\n",
       "      <td>27.7218</td>\n",
       "      <td>27.9601</td>\n",
       "      <td>35.7198</td>\n",
       "      <td>27.5760</td>\n",
       "      <td>35.3375</td>\n",
       "      <td>29.9993</td>\n",
       "      <td>34.2149</td>\n",
       "      <td>33.1276</td>\n",
       "      <td>31.1057</td>\n",
       "      <td>31.0179</td>\n",
       "    </tr>\n",
       "  </tbody>\n",
       "</table>\n",
       "<p>5 rows × 60 columns</p>\n",
       "</div>"
      ],
      "text/plain": [
       "        0        1        2        3        4        5        6        7   \\\n",
       "0  28.7812  34.4632  31.3381  31.2834  28.9207  33.7596  25.3969  27.7849   \n",
       "1  24.8923  25.7410  27.5532  32.8217  27.8789  31.5926  31.4861  35.5469   \n",
       "2  31.3987  30.6316  26.3983  24.2905  27.8613  28.5491  24.9717  32.4358   \n",
       "3  25.7740  30.5262  35.4209  25.6033  27.9700  25.2702  28.1320  29.4268   \n",
       "4  27.1798  29.2498  33.6928  25.6264  24.6555  28.9446  35.7980  34.9446   \n",
       "\n",
       "        8        9   ...       50       51       52       53       54  \\\n",
       "0  35.2479  27.1159  ...  31.4333  24.5556  33.7431  25.0466  34.9318   \n",
       "1  27.9516  31.6595  ...  32.5577  31.0205  26.6418  28.4331  33.6564   \n",
       "2  25.2239  27.3068  ...  33.6318  26.5966  25.5387  32.5434  25.5772   \n",
       "3  31.4549  27.3200  ...  34.6292  28.7261  28.2979  31.5787  34.6156   \n",
       "4  24.5596  34.2366  ...  27.7218  27.9601  35.7198  27.5760  35.3375   \n",
       "\n",
       "        55       56       57       58       59  \n",
       "0  34.9879  32.4721  33.3759  25.4652  25.8717  \n",
       "1  26.4244  28.4661  34.2484  32.1005  26.6910  \n",
       "2  29.9897  31.3510  33.9002  29.5446  29.3430  \n",
       "3  32.5492  30.9827  24.8938  27.3659  25.3069  \n",
       "4  29.9993  34.2149  33.1276  31.1057  31.0179  \n",
       "\n",
       "[5 rows x 60 columns]"
      ]
     },
     "execution_count": 14,
     "metadata": {},
     "output_type": "execute_result"
    }
   ],
   "source": [
    "## 600 control chart data synthetically generated\n",
    "## https://archive.ics.uci.edu/ml/datasets/Synthetic%2BControl%2BChart%2BTime%2BSeries\n",
    "ex = pd.read_csv('./assets/synthetic_control_data.csv', delim_whitespace=True, header=None)\n",
    "ex.head()"
   ]
  },
  {
   "cell_type": "markdown",
   "id": "efaecc4c",
   "metadata": {},
   "source": [
    "### Setting features"
   ]
  },
  {
   "cell_type": "code",
   "execution_count": 15,
   "id": "9cbbaeec",
   "metadata": {},
   "outputs": [],
   "source": [
    "%%capture --no-display\n",
    "xdf = pd.DataFrame(columns=['mean', 'std', 'skew', 'kurt', 'label'])\n",
    "xdf['mean'] = np.mean(ex, axis=1)\n",
    "xdf['std'] = np.std(ex, axis=1)\n",
    "xdf['skew'] = ex.skew(axis=1)\n",
    "xdf['kurt'] = ex.kurt(axis=1)\n",
    "xdf['label'].iloc[0:100] = 'normal'\n",
    "xdf['label'].iloc[100:201] = 'cyclic'\n",
    "xdf['label'].iloc[201:301] = 'increasing_trend'\n",
    "xdf['label'].iloc[301:401] = 'decreasing_trend'\n",
    "xdf['label'].iloc[401:501] = 'upward_shift'\n",
    "xdf['label'].iloc[501:] = 'downward_shift'"
   ]
  },
  {
   "cell_type": "code",
   "execution_count": 16,
   "id": "2a1d3313",
   "metadata": {},
   "outputs": [],
   "source": [
    "X = np.asarray(xdf[['mean', 'std', 'skew', 'kurt']])\n",
    "y = np.asarray(xdf['label'])\n",
    "X_train, X_test, y_train, y_test = train_test_split(X, y, test_size=0.2, random_state=4)"
   ]
  },
  {
   "cell_type": "markdown",
   "id": "d9db5d64",
   "metadata": {},
   "source": [
    "### Training and Testing"
   ]
  },
  {
   "cell_type": "code",
   "execution_count": 91,
   "id": "9f68e510",
   "metadata": {},
   "outputs": [
    {
     "name": "stdout",
     "output_type": "stream",
     "text": [
      "                  precision    recall  f1-score   support\n",
      "\n",
      "          cyclic       1.00      1.00      1.00        15\n",
      "decreasing_trend       0.93      1.00      0.96        25\n",
      "  downward_shift       1.00      0.94      0.97        18\n",
      "increasing_trend       0.91      0.91      0.91        22\n",
      "          normal       1.00      1.00      1.00        17\n",
      "    upward_shift       0.95      0.91      0.93        23\n",
      "\n",
      "        accuracy                           0.96       120\n",
      "       macro avg       0.96      0.96      0.96       120\n",
      "    weighted avg       0.96      0.96      0.96       120\n",
      "\n"
     ]
    }
   ],
   "source": [
    "## Support Vector Machines (SVM)\n",
    "classifier = svm.SVC(kernel='linear', gamma='auto', C=2)\n",
    "classifier.fit(X_train, y_train)\n",
    "y_predict = classifier.predict(X_test)\n",
    "print(classification_report(y_test, y_predict))"
   ]
  },
  {
   "cell_type": "code",
   "execution_count": 63,
   "id": "7c347189",
   "metadata": {},
   "outputs": [],
   "source": [
    "## more models to do\n",
    "## --> logistic regression\n",
    "## --> k nearest neighbours\n",
    "## --> random forrest "
   ]
  },
  {
   "cell_type": "code",
   "execution_count": 146,
   "id": "93ed3c62",
   "metadata": {},
   "outputs": [
    {
     "name": "stdout",
     "output_type": "stream",
     "text": [
      "decreasing_trend\n"
     ]
    },
    {
     "name": "stderr",
     "output_type": "stream",
     "text": [
      "C:\\Users\\cheta\\AppData\\Local\\Programs\\Python\\Python311\\Lib\\site-packages\\numpy\\core\\fromnumeric.py:3462: FutureWarning: Dropping of nuisance columns in DataFrame reductions (with 'numeric_only=None') is deprecated; in a future version this will raise TypeError.  Select only valid columns before calling the reduction.\n",
      "  return mean(axis=axis, dtype=dtype, out=out, **kwargs)\n"
     ]
    }
   ],
   "source": [
    "test_data = pd.read_excel('./assets/test_data_amtek_auto.xlsx', sheet_name=\"cylinder_block_depth\")\n",
    "test_data = test_data.drop(['Sample'], axis=1)\n",
    "test_data.columns = pd.RangeIndex(0, len(test_data.columns)) \n",
    "test_data['mean_0'] = np.mean(test_data, axis=1) \n",
    "test_data = test_data.drop([0, 1, 2, 3], axis=1)\n",
    "test_df = pd.DataFrame(columns=['mean', 'std', 'skew', 'kurt'])\n",
    "test_df['mean'] = np.mean(test_data, axis=0)\n",
    "test_df['std'] = np.std(test_data, axis=0)\n",
    "test_df['skew'] = test_data.skew(axis=0)\n",
    "test_df['kurt'] = test_data.kurt(axis=0)\n",
    "test_df= test_df.to_numpy()\n",
    "test_predict=classifier.predict(test_df)\n",
    "print(test_predict[0])"
   ]
  },
  {
   "cell_type": "code",
   "execution_count": null,
   "id": "98abc30a",
   "metadata": {},
   "outputs": [],
   "source": []
  },
  {
   "cell_type": "code",
   "execution_count": null,
   "id": "f8c0fcfe",
   "metadata": {},
   "outputs": [],
   "source": []
  }
 ],
 "metadata": {
  "kernelspec": {
   "display_name": "Python 3 (ipykernel)",
   "language": "python",
   "name": "python3"
  },
  "language_info": {
   "codemirror_mode": {
    "name": "ipython",
    "version": 3
   },
   "file_extension": ".py",
   "mimetype": "text/x-python",
   "name": "python",
   "nbconvert_exporter": "python",
   "pygments_lexer": "ipython3",
   "version": "3.11.2"
  }
 },
 "nbformat": 4,
 "nbformat_minor": 5
}
